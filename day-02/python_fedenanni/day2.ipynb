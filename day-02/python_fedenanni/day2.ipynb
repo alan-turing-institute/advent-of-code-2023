{
 "cells": [
  {
   "cell_type": "code",
   "execution_count": null,
   "metadata": {},
   "outputs": [],
   "source": [
    "def check_enough_colours(sets, available):\n",
    "    for set in sets:\n",
    "        color_pairs = [pair.strip() for pair in set.split(',')]\n",
    "        for pair in color_pairs:\n",
    "            quantity, color = pair.split()\n",
    "            if int(quantity) > available[color]:\n",
    "                return False\n",
    "    return True"
   ]
  },
  {
   "cell_type": "code",
   "execution_count": null,
   "metadata": {},
   "outputs": [],
   "source": [
    "def check_minimum_number_of_cubes(sets):\n",
    "    colours = {\"red\":0,\"green\": 0, \"blue\":0}\n",
    "    for set in sets:\n",
    "        color_pairs = [pair.strip() for pair in set.split(',')]\n",
    "        for pair in color_pairs:\n",
    "            quantity, color = pair.split()\n",
    "            if int(quantity) > colours[color]:\n",
    "                colours[color] = int(quantity)\n",
    "    return colours"
   ]
  },
  {
   "cell_type": "code",
   "execution_count": null,
   "metadata": {},
   "outputs": [],
   "source": [
    "# Part 1\n",
    "\n",
    "available = {\"red\":12,\"green\": 13, \"blue\":14}\n",
    "\n",
    "input = open(\"input.txt\", \"r\").readlines()\n",
    "\n",
    "tot = 0\n",
    "\n",
    "for line in input:\n",
    "    game = int(line.split(\":\")[0].split(\" \")[1])\n",
    "    sets = line.split(\":\")[1].split(\"; \")\n",
    "    outcome = check_enough_colours(sets, available)\n",
    "    if outcome:\n",
    "        tot += game\n",
    "print (tot)"
   ]
  },
  {
   "cell_type": "code",
   "execution_count": null,
   "metadata": {},
   "outputs": [],
   "source": [
    "# Part 2\n",
    "\n",
    "tot = 0\n",
    "\n",
    "for line in input:\n",
    "    game = int(line.split(\":\")[0].split(\" \")[1])\n",
    "    sets = line.split(\":\")[1].split(\"; \")\n",
    "    min_possible_cubes = check_minimum_number_of_cubes(sets)\n",
    "    power = min_possible_cubes[\"red\"]* min_possible_cubes[\"green\"]*min_possible_cubes[\"blue\"]\n",
    "    tot+= power\n",
    "\n",
    "print (tot)"
   ]
  }
 ],
 "metadata": {
  "kernelspec": {
   "display_name": "Python 3",
   "language": "python",
   "name": "python3"
  },
  "language_info": {
   "codemirror_mode": {
    "name": "ipython",
    "version": 3
   },
   "file_extension": ".py",
   "mimetype": "text/x-python",
   "name": "python",
   "nbconvert_exporter": "python",
   "pygments_lexer": "ipython3",
   "version": "3.12.0"
  }
 },
 "nbformat": 4,
 "nbformat_minor": 2
}
