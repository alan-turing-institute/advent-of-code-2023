{
 "cells": [
  {
   "cell_type": "code",
   "execution_count": null,
   "metadata": {},
   "outputs": [],
   "source": [
    "# Part 1\n",
    "\n",
    "input = open(\"input.txt\").readlines()\n",
    "\n",
    "strip_strings = [[y for y in x if y.isdigit()] for x in input]\n",
    "\n",
    "numbers = [int(x[0]+x[-1]) for x in strip_strings]\n",
    "print (sum(numbers))"
   ]
  },
  {
   "cell_type": "code",
   "execution_count": null,
   "metadata": {},
   "outputs": [],
   "source": [
    "# Part 2\n",
    "\n",
    "string_numbers ={\n",
    "       \"one\": \"1\",\n",
    "        \"two\": \"2\",\n",
    "        \"three\": \"3\",\n",
    "        \"four\": \"4\",\n",
    "        \"five\": \"5\",\n",
    "        \"six\": \"6\",\n",
    "        \"seven\": \"7\",\n",
    "        \"eight\": \"8\",\n",
    "        \"nine\": \"9\",\n",
    "    }\n",
    "\n",
    "clean_input = []\n",
    "\n",
    "for line in input:\n",
    "    numbers_found = {}\n",
    "    for number in string_numbers.keys():\n",
    "        if number in line:\n",
    "            start_index = 0\n",
    "            while True:\n",
    "                index = line.find(number, start_index)\n",
    "                if index == -1:\n",
    "                    break\n",
    "                start_index = index + 1\n",
    "                numbers_found[index] = string_numbers[number]\n",
    "    for c in range(len(line)):\n",
    "        if line[c].isdigit():\n",
    "            numbers_found[c] = line[c]\n",
    "    clean_input.append(numbers_found)\n",
    "\n",
    "tot = 0\n",
    "\n",
    "for l in range(len(clean_input)):\n",
    "    line = clean_input[l]\n",
    "    line = sorted(line.items())\n",
    "    number = int(line[0][1]+line[-1][1])\n",
    "    tot += number\n",
    "\n",
    "print (tot)"
   ]
  }
 ],
 "metadata": {
  "kernelspec": {
   "display_name": "Python 3",
   "language": "python",
   "name": "python3"
  },
  "language_info": {
   "codemirror_mode": {
    "name": "ipython",
    "version": 3
   },
   "file_extension": ".py",
   "mimetype": "text/x-python",
   "name": "python",
   "nbconvert_exporter": "python",
   "pygments_lexer": "ipython3",
   "version": "3.12.0"
  }
 },
 "nbformat": 4,
 "nbformat_minor": 2
}
