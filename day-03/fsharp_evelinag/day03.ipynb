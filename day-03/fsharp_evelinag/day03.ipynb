{
 "cells": [
  {
   "cell_type": "code",
   "execution_count": null,
   "metadata": {
    "dotnet_interactive": {
     "language": "fsharp"
    },
    "polyglot_notebook": {
     "kernelName": "fsharp"
    },
    "vscode": {
     "languageId": "polyglot-notebook"
    }
   },
   "outputs": [],
   "source": [
    "open System.IO\n",
    "\n",
    "let input = File.ReadAllLines \"input.txt\"\n",
    "\n",
    "let testInput = \n",
    "    \"467..114..\n",
    "...*......\n",
    "..35..633.\n",
    "......#...\n",
    "617*......\n",
    ".....+.58.\n",
    "..592.....\n",
    "......755.\n",
    "...$.*....\n",
    ".664.598..\".Split \"\\n\"\n",
    "\n",
    "let engineText = input"
   ]
  },
  {
   "cell_type": "code",
   "execution_count": null,
   "metadata": {
    "dotnet_interactive": {
     "language": "fsharp"
    },
    "polyglot_notebook": {
     "kernelName": "fsharp"
    },
    "vscode": {
     "languageId": "polyglot-notebook"
    }
   },
   "outputs": [],
   "source": [
    "let rec getNumber substring acc =\n",
    "    match substring with\n",
    "    | [] -> acc |> List.rev\n",
    "    | x::xs -> \n",
    "        match x with\n",
    "        | n when n >= '0' && n <= '9' -> getNumber xs (n :: acc)\n",
    "        | _ -> acc |> List.rev"
   ]
  },
  {
   "cell_type": "code",
   "execution_count": null,
   "metadata": {
    "dotnet_interactive": {
     "language": "fsharp"
    },
    "polyglot_notebook": {
     "kernelName": "fsharp"
    },
    "vscode": {
     "languageId": "polyglot-notebook"
    }
   },
   "outputs": [],
   "source": [
    "type Engine = \n",
    "    | Symbol of char * (int * int)\n",
    "    | Number of int * ((int*int) list)\n",
    "\n",
    "\n",
    "let rec parseRow (rowIdx: int) (colIdx: int) (line: char list) acc =\n",
    "    if line.Length = colIdx then\n",
    "        acc \n",
    "    else\n",
    "        match line.[colIdx] with\n",
    "        | '.' -> parseRow rowIdx (colIdx + 1) line acc\n",
    "        | n when n >= '0' && n <= '9' -> \n",
    "            let numberCharacters = getNumber (line.[colIdx..]) []\n",
    "            let number = numberCharacters |> List.map string |> String.concat \"\" |> int\n",
    "            let numberCoordinates = [ for i in 0..numberCharacters.Length-1 -> rowIdx, colIdx + i ]\n",
    "            parseRow rowIdx (colIdx + numberCharacters.Length) line ((Number (number,numberCoordinates))::acc)\n",
    "        | symbol -> parseRow rowIdx (colIdx + 1) line ((Symbol (symbol, (rowIdx, colIdx)))::acc)\n",
    "\n",
    "// Engine specification is an array of numbers or symbols with their coordinates\n",
    "let engine = \n",
    "    engineText\n",
    "    |> Array.mapi (fun rowIdx row -> \n",
    "        parseRow rowIdx 0 (row.ToCharArray() |> List.ofArray) []\n",
    "        |> Array.ofList)\n",
    "    |> Array.collect id\n",
    "\n",
    "engine"
   ]
  },
  {
   "cell_type": "code",
   "execution_count": null,
   "metadata": {
    "dotnet_interactive": {
     "language": "fsharp"
    },
    "polyglot_notebook": {
     "kernelName": "fsharp"
    },
    "vscode": {
     "languageId": "polyglot-notebook"
    }
   },
   "outputs": [],
   "source": [
    "let symbolLocations = \n",
    "    engine \n",
    "    |> Array.choose (fun x -> \n",
    "        match x with \n",
    "        | Symbol (_, coords) -> Some coords\n",
    "        | _ -> None)\n",
    "\n",
    "symbolLocations"
   ]
  },
  {
   "cell_type": "code",
   "execution_count": 33,
   "metadata": {
    "dotnet_interactive": {
     "language": "fsharp"
    },
    "polyglot_notebook": {
     "kernelName": "fsharp"
    },
    "vscode": {
     "languageId": "polyglot-notebook"
    }
   },
   "outputs": [
    {
     "data": {
      "text/html": [
       "<div class=\"dni-plaintext\"><pre>[ 527, 307, 773, 845, 453, 998, 65, 861, 331, 164, 105, 196, 752, 942, 377, 74, 516, 839, 418, 745 ... (610 more) ]</pre></div><style>\r\n",
       ".dni-code-hint {\r\n",
       "    font-style: italic;\r\n",
       "    overflow: hidden;\r\n",
       "    white-space: nowrap;\r\n",
       "}\r\n",
       ".dni-treeview {\r\n",
       "    white-space: nowrap;\r\n",
       "}\r\n",
       ".dni-treeview td {\r\n",
       "    vertical-align: top;\r\n",
       "    text-align: start;\r\n",
       "}\r\n",
       "details.dni-treeview {\r\n",
       "    padding-left: 1em;\r\n",
       "}\r\n",
       "table td {\r\n",
       "    text-align: start;\r\n",
       "}\r\n",
       "table tr { \r\n",
       "    vertical-align: top; \r\n",
       "    margin: 0em 0px;\r\n",
       "}\r\n",
       "table tr td pre \r\n",
       "{ \r\n",
       "    vertical-align: top !important; \r\n",
       "    margin: 0em 0px !important;\r\n",
       "} \r\n",
       "table th {\r\n",
       "    text-align: start;\r\n",
       "}\r\n",
       "</style>"
      ]
     },
     "metadata": {},
     "output_type": "display_data"
    }
   ],
   "source": [
    "let nextTo (x1,x2) (y1, y2) =  ((abs (x1 - y1)) <= 1) && ((abs (x2 - y2)) <= 1)\n",
    "\n",
    "let rec isSymbolAdjacent coords =\n",
    "    match coords with\n",
    "    | [] -> false\n",
    "    | x::xs ->\n",
    "        let adjacentSymbols =\n",
    "            symbolLocations\n",
    "            |> Array.filter (fun y -> nextTo x y)\n",
    "        if adjacentSymbols.Length > 0 then \n",
    "            true\n",
    "        else \n",
    "            isAdjacent xs\n",
    "\n",
    "let part1 =\n",
    "    engine\n",
    "    |> Array.choose (fun x ->\n",
    "        match x with\n",
    "        | Number (n, coords) -> \n",
    "            if isSymbolAdjacent coords then\n",
    "                Some n\n",
    "            else \n",
    "                None\n",
    "        | _ -> None)\n",
    "    |> Array.sum\n",
    "\n",
    "part1 "
   ]
  },
  {
   "cell_type": "code",
   "execution_count": null,
   "metadata": {
    "dotnet_interactive": {
     "language": "fsharp"
    },
    "polyglot_notebook": {
     "kernelName": "fsharp"
    },
    "vscode": {
     "languageId": "polyglot-notebook"
    }
   },
   "outputs": [],
   "source": [
    "// A gear is any * symbol that is adjacent to exactly two part numbers.\n",
    "// Its gear ratio is the result of multiplying those two numbers together\n",
    "\n",
    "let part2 =\n",
    "    engine\n",
    "    |> Array.choose (fun x ->\n",
    "        match x with\n",
    "        | Symbol ('*', coords) -> Some coords\n",
    "        | _ -> None)\n",
    "    |> Array.map (fun symbolCoords -> \n",
    "        engine\n",
    "        |> Array.choose (fun x ->\n",
    "            match x with\n",
    "            | Number (n, numberCoords) -> \n",
    "                let isNextTo = \n",
    "                    numberCoords\n",
    "                    |> List.fold (fun state nc -> \n",
    "                            nextTo nc symbolCoords || state) false\n",
    "                if isNextTo then Some(n) else None\n",
    "            | _ -> None)\n",
    "        |> fun a -> if a.Length = 2 then a.[0] * a.[1] else 0\n",
    "        )\n",
    "    |> Array.sum\n",
    "\n",
    "part2\n"
   ]
  }
 ],
 "metadata": {
  "language_info": {
   "name": "python"
  }
 },
 "nbformat": 4,
 "nbformat_minor": 2
}
